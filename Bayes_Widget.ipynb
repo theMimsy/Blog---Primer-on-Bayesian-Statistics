{
 "cells": [
  {
   "cell_type": "code",
   "execution_count": 1,
   "metadata": {},
   "outputs": [
    {
     "data": {
      "text/html": [
       "<script>\n",
       "    MathJax.Hub.Config({\n",
       "                        TeX: {\n",
       "                           extensions: [\"AMSmath.js\"],\n",
       "                           equationNumbers: { autoNumber: \"AMS\", useLabelIds: true}\n",
       "                           },\n",
       "                tex2jax: {\n",
       "                    inlineMath: [ ['$','$'], [\"\\\\(\",\"\\\\)\"] ],\n",
       "                    displayMath: [ ['$$','$$'], [\"\\\\[\",\"\\\\]\"] ]\n",
       "                },\n",
       "                displayAlign: 'center',\n",
       "                \"HTML-CSS\": {\n",
       "                    styles: {'.MathJax_Display': {\"margin\": 4}}\n",
       "                }\n",
       "        });\n",
       "</script>\n"
      ],
      "text/plain": [
       "<IPython.core.display.HTML object>"
      ]
     },
     "execution_count": 1,
     "metadata": {},
     "output_type": "execute_result"
    }
   ],
   "source": [
    "# Calculations\n",
    "import numpy as np\n",
    "import scipy as sci\n",
    "from scipy.stats import binom\n",
    "\n",
    "# Interactive\n",
    "from ipywidgets import widgets\n",
    "from IPython.display import display\n",
    "\n",
    "# Graphing\n",
    "import plotly.plotly as py\n",
    "import plotly.graph_objs as go\n",
    "\n",
    "# Execute this cell to load the notebook's style sheet, then ignore it\n",
    "from IPython.core.display import HTML\n",
    "css_file = 'testing_grounds.css'\n",
    "HTML(open(css_file, \"r\").read())"
   ]
  },
  {
   "cell_type": "code",
   "execution_count": 2,
   "metadata": {
    "collapsed": true
   },
   "outputs": [],
   "source": [
    "def plotly_trace(f, min_x, max_x, name = '', num_values = 500):\n",
    "    \n",
    "    # Generate the x and y coordinates\n",
    "    x_values = np.linspace(min_x, max_x, num_values)\n",
    "    margins  = (x_values > 0) & (x_values < 1)\n",
    "    y_values = np.where(margins, f(x_values), np.zeros([x_values.size]))\n",
    "\n",
    "    # Generate the plotly trace and return it\n",
    "    trace = go.Scatter(\n",
    "        visible = False,\n",
    "        x = x_values, \n",
    "        y = y_values,\n",
    "        name = name\n",
    "    )\n",
    "    return trace"
   ]
  },
  {
   "cell_type": "code",
   "execution_count": 42,
   "metadata": {},
   "outputs": [],
   "source": [
    "def calc_posterior(n, N_H):\n",
    "    def to_return(values):\n",
    "        return (n + 1) * binom.pmf(N_H, n, values)\n",
    "    return to_return\n",
    "\n",
    "def calc_prior():\n",
    "    def to_return(values):\n",
    "        return np.ones([values.size])\n",
    "    return to_return\n",
    "\n",
    "def generate_bayes_comparison(min_x, max_x, num_trials):\n",
    "\n",
    "    # Generate data for the prior\n",
    "    data_prior = [plotly_trace(calc_prior(), min_x, max_x, 'PRIOR')]\n",
    "    data_prior[0]['visible'] = True\n",
    "\n",
    "    # Generate data for the posterior\n",
    "    data_posterior = [plotly_trace(calc_posterior(num_trials, h), min_x, max_x, 'POSTERIOR') for h in np.arange(10, 191, 1)]\n",
    "    data_posterior[num_trials // 2]['visible'] = True\n",
    "\n",
    "    return data_prior + data_posterior\n",
    "\n",
    "data = generate_bayes_comparison(-1, 2, 200)"
   ]
  },
  {
   "cell_type": "code",
   "execution_count": 44,
   "metadata": {},
   "outputs": [
    {
     "data": {
      "text/html": [
       "<iframe id=\"igraph\" scrolling=\"no\" style=\"border:none;\" seamless=\"seamless\" src=\"https://plot.ly/~mimsy/6.embed\" height=\"525px\" width=\"100%\"></iframe>"
      ],
      "text/plain": [
       "<plotly.tools.PlotlyDisplay object>"
      ]
     },
     "execution_count": 44,
     "metadata": {},
     "output_type": "execute_result"
    }
   ],
   "source": [
    "# Slider used to toggle visibility for each posterior\n",
    "slide_heads_toggles = []\n",
    "\n",
    "# Go over each trace and define sliders\n",
    "for i in range(len(data)):\n",
    "    if i == 0: continue\n",
    "    head_toggle = {\n",
    "        'method' : 'restyle',\n",
    "        'args'   : ['visible', [False] * len(data)],\n",
    "        'label'  : str(i + 9)\n",
    "    }\n",
    "    \n",
    "    head_toggle['args'][1][i] = True # Toggle i'th trace to visible \n",
    "    head_toggle['args'][1][0] = True # Prior is always visible\n",
    "    \n",
    "    slide_heads_toggles.append(head_toggle)\n",
    "\n",
    "sliders = [{\n",
    "    'active'       : 100,\n",
    "    'currentvalue' : {'prefix': 'Number of heads: '},\n",
    "    'pad'          : {'t': 50},\n",
    "    'steps'        : slide_heads_toggles}]\n",
    "\n",
    "layout = {\n",
    "    'sliders' : sliders,\n",
    "    'xaxis'   : {'title': 'Probability of a Head'},\n",
    "    'yaxis'   : {'title': 'Probability Density', 'autorange' : False, 'range' : [0, 15]},\n",
    "    'title'   : 'Comparison Betweeen Prior and Posterior Distributions (Number of Tosses = 200)'\n",
    "}\n",
    "\n",
    "fig = dict(data=data, layout=layout)\n",
    "\n",
    "py.iplot(fig, filename='Bayes Statistics')"
   ]
  }
 ],
 "metadata": {
  "kernelspec": {
   "display_name": "Python 3",
   "language": "python",
   "name": "python3"
  },
  "language_info": {
   "codemirror_mode": {
    "name": "ipython",
    "version": 3
   },
   "file_extension": ".py",
   "mimetype": "text/x-python",
   "name": "python",
   "nbconvert_exporter": "python",
   "pygments_lexer": "ipython3",
   "version": "3.5.3"
  }
 },
 "nbformat": 4,
 "nbformat_minor": 2
}
